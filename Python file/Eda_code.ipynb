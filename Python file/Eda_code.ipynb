{
 "cells": [
  {
   "cell_type": "code",
   "execution_count": 1,
   "metadata": {},
   "outputs": [],
   "source": [
    "import numpy as np\n",
    "import pandas as pd\n",
    "import matplotlib.pyplot as plt\n",
    "import seaborn as sns"
   ]
  },
  {
   "cell_type": "code",
   "execution_count": 20,
   "metadata": {},
   "outputs": [],
   "source": [
    "import sweetviz as sv\n"
   ]
  },
  {
   "cell_type": "code",
   "execution_count": 2,
   "metadata": {},
   "outputs": [],
   "source": [
    "# Function for converting the datatype of all columns' data points whose name is ending with id from int to string\n",
    "def convert_id_to_string(df):\n",
    "    for col in df.columns:\n",
    "        if col.endswith('id'):\n",
    "            df[col] = df[col].astype(str)\n",
    "    return df\n"
   ]
  },
  {
   "cell_type": "markdown",
   "metadata": {},
   "source": [
    "# **EDA by Sweetviz**"
   ]
  },
  {
   "cell_type": "markdown",
   "metadata": {},
   "source": [
    "## 1. Train Data"
   ]
  },
  {
   "cell_type": "code",
   "execution_count": 3,
   "metadata": {},
   "outputs": [],
   "source": [
    "train_data = pd. read_csv(r'D:\\Other Involment\\Data Science\\American_express_project_repo\\American_Express_Project\\Raw Data\\663e2b6d54457_train_data_with_samplefeatures.csv')"
   ]
  },
  {
   "cell_type": "code",
   "execution_count": 4,
   "metadata": {},
   "outputs": [
    {
     "name": "stdout",
     "output_type": "stream",
     "text": [
      "<class 'pandas.core.frame.DataFrame'>\n",
      "RangeIndex: 948 entries, 0 to 947\n",
      "Data columns (total 23 columns):\n",
      " #   Column                     Non-Null Count  Dtype  \n",
      "---  ------                     --------------  -----  \n",
      " 0   match_id                   948 non-null    int64  \n",
      " 1   team1                      948 non-null    object \n",
      " 2   team1_id                   948 non-null    int64  \n",
      " 3   team1_roster_ids           948 non-null    object \n",
      " 4   team2                      948 non-null    object \n",
      " 5   team2_id                   948 non-null    int64  \n",
      " 6   team2_roster_ids           948 non-null    object \n",
      " 7   winner                     948 non-null    object \n",
      " 8   winner_id                  948 non-null    int64  \n",
      " 9   toss winner                948 non-null    object \n",
      " 10  toss decision              948 non-null    object \n",
      " 11  venue                      948 non-null    object \n",
      " 12  city                       948 non-null    object \n",
      " 13  match_dt                   948 non-null    object \n",
      " 14  lighting                   948 non-null    object \n",
      " 15  series_name                948 non-null    object \n",
      " 16  season                     948 non-null    object \n",
      " 17  ground_id                  948 non-null    int64  \n",
      " 18  team_count_50runs_last15   948 non-null    float64\n",
      " 19  team_winp_last5            948 non-null    float64\n",
      " 20  team1only_avg_runs_last15  927 non-null    float64\n",
      " 21  team1_winp_team2_last15    948 non-null    float64\n",
      " 22  ground_avg_runs_last15     895 non-null    float64\n",
      "dtypes: float64(5), int64(5), object(13)\n",
      "memory usage: 170.5+ KB\n"
     ]
    }
   ],
   "source": [
    "train_data.info()"
   ]
  },
  {
   "cell_type": "code",
   "execution_count": 5,
   "metadata": {},
   "outputs": [
    {
     "name": "stdout",
     "output_type": "stream",
     "text": [
      "<class 'pandas.core.frame.DataFrame'>\n",
      "RangeIndex: 948 entries, 0 to 947\n",
      "Data columns (total 23 columns):\n",
      " #   Column                     Non-Null Count  Dtype  \n",
      "---  ------                     --------------  -----  \n",
      " 0   match_id                   948 non-null    object \n",
      " 1   team1                      948 non-null    object \n",
      " 2   team1_id                   948 non-null    object \n",
      " 3   team1_roster_ids           948 non-null    object \n",
      " 4   team2                      948 non-null    object \n",
      " 5   team2_id                   948 non-null    object \n",
      " 6   team2_roster_ids           948 non-null    object \n",
      " 7   winner                     948 non-null    object \n",
      " 8   winner_id                  948 non-null    object \n",
      " 9   toss winner                948 non-null    object \n",
      " 10  toss decision              948 non-null    object \n",
      " 11  venue                      948 non-null    object \n",
      " 12  city                       948 non-null    object \n",
      " 13  match_dt                   948 non-null    object \n",
      " 14  lighting                   948 non-null    object \n",
      " 15  series_name                948 non-null    object \n",
      " 16  season                     948 non-null    object \n",
      " 17  ground_id                  948 non-null    object \n",
      " 18  team_count_50runs_last15   948 non-null    float64\n",
      " 19  team_winp_last5            948 non-null    float64\n",
      " 20  team1only_avg_runs_last15  927 non-null    float64\n",
      " 21  team1_winp_team2_last15    948 non-null    float64\n",
      " 22  ground_avg_runs_last15     895 non-null    float64\n",
      "dtypes: float64(5), object(18)\n",
      "memory usage: 170.5+ KB\n"
     ]
    }
   ],
   "source": [
    "convert_id_to_string(train_data)\n",
    "train_data.info()"
   ]
  },
  {
   "cell_type": "code",
   "execution_count": 21,
   "metadata": {},
   "outputs": [
    {
     "data": {
      "application/vnd.jupyter.widget-view+json": {
       "model_id": "cbda6b6ef5534e4da6b02f6dde1392cc",
       "version_major": 2,
       "version_minor": 0
      },
      "text/plain": [
       "                                             |          | [  0%]   00:00 -> (? left)"
      ]
     },
     "metadata": {},
     "output_type": "display_data"
    },
    {
     "name": "stdout",
     "output_type": "stream",
     "text": [
      "Report train_Report.html was generated! NOTEBOOK/COLAB USERS: the web browser MAY not pop up, regardless, the report IS saved in your notebook/colab files.\n"
     ]
    }
   ],
   "source": [
    "# Analyze the dataset\n",
    "my_report = sv.analyze(train_data) \n",
    "\n",
    "# Display the Sweetviz report\n",
    "my_report.show_html(\"train_Report.html\")  # This will generate an HTML report"
   ]
  },
  {
   "cell_type": "markdown",
   "metadata": {},
   "source": [
    "## 2. Test Data"
   ]
  },
  {
   "cell_type": "code",
   "execution_count": 7,
   "metadata": {},
   "outputs": [],
   "source": [
    "test_data = pd.read_csv(r'D:\\Other Involment\\Data Science\\American_express_project_repo\\American_Express_Project\\Raw Data\\6644a1e287df6_test_data_with_samplefeatures.csv')"
   ]
  },
  {
   "cell_type": "code",
   "execution_count": 8,
   "metadata": {},
   "outputs": [
    {
     "name": "stdout",
     "output_type": "stream",
     "text": [
      "<class 'pandas.core.frame.DataFrame'>\n",
      "RangeIndex: 271 entries, 0 to 270\n",
      "Data columns (total 21 columns):\n",
      " #   Column                     Non-Null Count  Dtype  \n",
      "---  ------                     --------------  -----  \n",
      " 0   match_id                   271 non-null    int64  \n",
      " 1   team1                      271 non-null    object \n",
      " 2   team1_id                   271 non-null    int64  \n",
      " 3   team1_roster_ids           271 non-null    object \n",
      " 4   team2                      271 non-null    object \n",
      " 5   team2_id                   271 non-null    int64  \n",
      " 6   team2_roster_ids           271 non-null    object \n",
      " 7   toss winner                271 non-null    object \n",
      " 8   toss decision              271 non-null    object \n",
      " 9   venue                      271 non-null    object \n",
      " 10  city                       271 non-null    object \n",
      " 11  match_dt                   271 non-null    object \n",
      " 12  lighting                   271 non-null    object \n",
      " 13  series_name                271 non-null    object \n",
      " 14  season                     271 non-null    object \n",
      " 15  ground_id                  271 non-null    int64  \n",
      " 16  team_count_50runs_last15   271 non-null    float64\n",
      " 17  team_winp_last5            271 non-null    float64\n",
      " 18  team1only_avg_runs_last15  264 non-null    float64\n",
      " 19  team1_winp_team2_last15    271 non-null    float64\n",
      " 20  ground_avg_runs_last15     261 non-null    float64\n",
      "dtypes: float64(5), int64(4), object(12)\n",
      "memory usage: 44.6+ KB\n"
     ]
    }
   ],
   "source": [
    "test_data.info()"
   ]
  },
  {
   "cell_type": "code",
   "execution_count": 9,
   "metadata": {},
   "outputs": [
    {
     "name": "stdout",
     "output_type": "stream",
     "text": [
      "<class 'pandas.core.frame.DataFrame'>\n",
      "RangeIndex: 271 entries, 0 to 270\n",
      "Data columns (total 21 columns):\n",
      " #   Column                     Non-Null Count  Dtype  \n",
      "---  ------                     --------------  -----  \n",
      " 0   match_id                   271 non-null    object \n",
      " 1   team1                      271 non-null    object \n",
      " 2   team1_id                   271 non-null    object \n",
      " 3   team1_roster_ids           271 non-null    object \n",
      " 4   team2                      271 non-null    object \n",
      " 5   team2_id                   271 non-null    object \n",
      " 6   team2_roster_ids           271 non-null    object \n",
      " 7   toss winner                271 non-null    object \n",
      " 8   toss decision              271 non-null    object \n",
      " 9   venue                      271 non-null    object \n",
      " 10  city                       271 non-null    object \n",
      " 11  match_dt                   271 non-null    object \n",
      " 12  lighting                   271 non-null    object \n",
      " 13  series_name                271 non-null    object \n",
      " 14  season                     271 non-null    object \n",
      " 15  ground_id                  271 non-null    object \n",
      " 16  team_count_50runs_last15   271 non-null    float64\n",
      " 17  team_winp_last5            271 non-null    float64\n",
      " 18  team1only_avg_runs_last15  264 non-null    float64\n",
      " 19  team1_winp_team2_last15    271 non-null    float64\n",
      " 20  ground_avg_runs_last15     261 non-null    float64\n",
      "dtypes: float64(5), object(16)\n",
      "memory usage: 44.6+ KB\n"
     ]
    }
   ],
   "source": [
    "convert_id_to_string(test_data)\n",
    "test_data.info()"
   ]
  },
  {
   "cell_type": "code",
   "execution_count": 22,
   "metadata": {},
   "outputs": [
    {
     "data": {
      "application/vnd.jupyter.widget-view+json": {
       "model_id": "c8c2d65bd3494fb280fda29a5252d081",
       "version_major": 2,
       "version_minor": 0
      },
      "text/plain": [
       "                                             |          | [  0%]   00:00 -> (? left)"
      ]
     },
     "metadata": {},
     "output_type": "display_data"
    },
    {
     "name": "stdout",
     "output_type": "stream",
     "text": [
      "Report test_Report.html was generated! NOTEBOOK/COLAB USERS: the web browser MAY not pop up, regardless, the report IS saved in your notebook/colab files.\n"
     ]
    }
   ],
   "source": [
    "# Analyze the dataset\n",
    "my_report = sv.analyze(test_data) \n",
    "\n",
    "# Display the Sweetviz report\n",
    "my_report.show_html(\"test_Report.html\")  # This will generate an HTML report"
   ]
  },
  {
   "cell_type": "markdown",
   "metadata": {},
   "source": [
    "## 3. Bowler Data"
   ]
  },
  {
   "cell_type": "code",
   "execution_count": 12,
   "metadata": {},
   "outputs": [
    {
     "name": "stdout",
     "output_type": "stream",
     "text": [
      "<class 'pandas.core.frame.DataFrame'>\n",
      "RangeIndex: 18539 entries, 0 to 18538\n",
      "Data columns (total 18 columns):\n",
      " #   Column             Non-Null Count  Dtype  \n",
      "---  ------             --------------  -----  \n",
      " 0   match id           18539 non-null  int64  \n",
      " 1   bowler             18539 non-null  object \n",
      " 2   bowler_id          18539 non-null  float64\n",
      " 3   bowler_details     18539 non-null  object \n",
      " 4   is_bowler_captain  18539 non-null  float64\n",
      " 5   is_bowler_keeper   18539 non-null  float64\n",
      " 6   inning             18539 non-null  int64  \n",
      " 7   runs               18539 non-null  int64  \n",
      " 8   wicket_count       18539 non-null  int64  \n",
      " 9   balls_bowled       18539 non-null  int64  \n",
      " 10  economy            18539 non-null  float64\n",
      " 11  maiden             18539 non-null  int64  \n",
      " 12  dots               18539 non-null  float64\n",
      " 13  Fours              18539 non-null  int64  \n",
      " 14  Sixes              18539 non-null  int64  \n",
      " 15  wides              18539 non-null  int64  \n",
      " 16  noballs            18539 non-null  int64  \n",
      " 17  match_dt           18539 non-null  object \n",
      "dtypes: float64(5), int64(10), object(3)\n",
      "memory usage: 2.5+ MB\n"
     ]
    }
   ],
   "source": [
    "bowler_data = pd.read_csv(r'D:\\Other Involment\\Data Science\\American_express_project_repo\\American_Express_Project\\Raw Data\\663e2b2c60743_bowler_level_scorecard.csv')\n",
    "bowler_data.info()"
   ]
  },
  {
   "cell_type": "code",
   "execution_count": 15,
   "metadata": {},
   "outputs": [
    {
     "name": "stdout",
     "output_type": "stream",
     "text": [
      "<class 'pandas.core.frame.DataFrame'>\n",
      "RangeIndex: 18539 entries, 0 to 18538\n",
      "Data columns (total 18 columns):\n",
      " #   Column             Non-Null Count  Dtype  \n",
      "---  ------             --------------  -----  \n",
      " 0   match id           18539 non-null  object \n",
      " 1   bowler             18539 non-null  object \n",
      " 2   bowler_id          18539 non-null  object \n",
      " 3   bowler_details     18539 non-null  object \n",
      " 4   is_bowler_captain  18539 non-null  float64\n",
      " 5   is_bowler_keeper   18539 non-null  float64\n",
      " 6   inning             18539 non-null  int64  \n",
      " 7   runs               18539 non-null  int64  \n",
      " 8   wicket_count       18539 non-null  int64  \n",
      " 9   balls_bowled       18539 non-null  int64  \n",
      " 10  economy            18539 non-null  float64\n",
      " 11  maiden             18539 non-null  int64  \n",
      " 12  dots               18539 non-null  float64\n",
      " 13  Fours              18539 non-null  int64  \n",
      " 14  Sixes              18539 non-null  int64  \n",
      " 15  wides              18539 non-null  int64  \n",
      " 16  noballs            18539 non-null  int64  \n",
      " 17  match_dt           18539 non-null  object \n",
      "dtypes: float64(4), int64(9), object(5)\n",
      "memory usage: 2.5+ MB\n"
     ]
    }
   ],
   "source": [
    "convert_id_to_string(bowler_data)\n",
    "bowler_data.info()"
   ]
  },
  {
   "cell_type": "code",
   "execution_count": 23,
   "metadata": {},
   "outputs": [
    {
     "data": {
      "application/vnd.jupyter.widget-view+json": {
       "model_id": "3c7eb4bd4a7749e08e725fb8f7cfafcc",
       "version_major": 2,
       "version_minor": 0
      },
      "text/plain": [
       "                                             |          | [  0%]   00:00 -> (? left)"
      ]
     },
     "metadata": {},
     "output_type": "display_data"
    },
    {
     "name": "stdout",
     "output_type": "stream",
     "text": [
      "Report bowler_Report.html was generated! NOTEBOOK/COLAB USERS: the web browser MAY not pop up, regardless, the report IS saved in your notebook/colab files.\n"
     ]
    }
   ],
   "source": [
    "# Analyze the dataset\n",
    "my_report = sv.analyze(bowler_data) \n",
    "\n",
    "# Display the Sweetviz report\n",
    "my_report.show_html(\"bowler_Report.html\")  # This will generate an HTML report"
   ]
  },
  {
   "cell_type": "markdown",
   "metadata": {},
   "source": [
    "## 4. Batsman Data "
   ]
  },
  {
   "cell_type": "code",
   "execution_count": 16,
   "metadata": {},
   "outputs": [
    {
     "name": "stdout",
     "output_type": "stream",
     "text": [
      "<class 'pandas.core.frame.DataFrame'>\n",
      "RangeIndex: 24483 entries, 0 to 24482\n",
      "Data columns (total 21 columns):\n",
      " #   Column              Non-Null Count  Dtype  \n",
      "---  ------              --------------  -----  \n",
      " 0   match_id            24483 non-null  int64  \n",
      " 1   batsman             24483 non-null  object \n",
      " 2   batsman_id          24483 non-null  float64\n",
      " 3   batsman_details     24483 non-null  object \n",
      " 4   is_batsman_captain  24483 non-null  float64\n",
      " 5   is_batsman_keeper   24483 non-null  float64\n",
      " 6   inning              24483 non-null  int64  \n",
      " 7   runs                24483 non-null  int64  \n",
      " 8   balls_faced         24483 non-null  int64  \n",
      " 9   over_faced_first    24483 non-null  float64\n",
      " 10  wicket kind         19155 non-null  object \n",
      " 11  out_by_bowler       19155 non-null  object \n",
      " 12  out_by_fielder      24483 non-null  object \n",
      " 13  bowler_id           18128 non-null  float64\n",
      " 14  bowler_details      18128 non-null  object \n",
      " 15  is_bowler_keeper    18698 non-null  float64\n",
      " 16  is_bowler_captain   18128 non-null  float64\n",
      " 17  strike_rate         24474 non-null  float64\n",
      " 18  Fours               14200 non-null  float64\n",
      " 19  Sixes               8994 non-null   float64\n",
      " 20  match_dt            24483 non-null  object \n",
      "dtypes: float64(10), int64(4), object(7)\n",
      "memory usage: 3.9+ MB\n"
     ]
    }
   ],
   "source": [
    "batsman_data= pd.read_csv(r'D:\\Other Involment\\Data Science\\American_express_project_repo\\American_Express_Project\\Raw Data\\663e2b548c98c_batsman_level_scorecard.csv')\n",
    "batsman_data.info()"
   ]
  },
  {
   "cell_type": "code",
   "execution_count": 17,
   "metadata": {},
   "outputs": [
    {
     "name": "stdout",
     "output_type": "stream",
     "text": [
      "<class 'pandas.core.frame.DataFrame'>\n",
      "RangeIndex: 24483 entries, 0 to 24482\n",
      "Data columns (total 21 columns):\n",
      " #   Column              Non-Null Count  Dtype  \n",
      "---  ------              --------------  -----  \n",
      " 0   match_id            24483 non-null  object \n",
      " 1   batsman             24483 non-null  object \n",
      " 2   batsman_id          24483 non-null  object \n",
      " 3   batsman_details     24483 non-null  object \n",
      " 4   is_batsman_captain  24483 non-null  float64\n",
      " 5   is_batsman_keeper   24483 non-null  float64\n",
      " 6   inning              24483 non-null  int64  \n",
      " 7   runs                24483 non-null  int64  \n",
      " 8   balls_faced         24483 non-null  int64  \n",
      " 9   over_faced_first    24483 non-null  float64\n",
      " 10  wicket kind         19155 non-null  object \n",
      " 11  out_by_bowler       19155 non-null  object \n",
      " 12  out_by_fielder      24483 non-null  object \n",
      " 13  bowler_id           24483 non-null  object \n",
      " 14  bowler_details      18128 non-null  object \n",
      " 15  is_bowler_keeper    18698 non-null  float64\n",
      " 16  is_bowler_captain   18128 non-null  float64\n",
      " 17  strike_rate         24474 non-null  float64\n",
      " 18  Fours               14200 non-null  float64\n",
      " 19  Sixes               8994 non-null   float64\n",
      " 20  match_dt            24483 non-null  object \n",
      "dtypes: float64(8), int64(3), object(10)\n",
      "memory usage: 3.9+ MB\n"
     ]
    }
   ],
   "source": [
    "convert_id_to_string(batsman_data)\n",
    "batsman_data.info()"
   ]
  },
  {
   "cell_type": "code",
   "execution_count": 24,
   "metadata": {},
   "outputs": [
    {
     "data": {
      "application/vnd.jupyter.widget-view+json": {
       "model_id": "f2d437f9af044ecc8e855bcc3c803ca0",
       "version_major": 2,
       "version_minor": 0
      },
      "text/plain": [
       "                                             |          | [  0%]   00:00 -> (? left)"
      ]
     },
     "metadata": {},
     "output_type": "display_data"
    },
    {
     "name": "stdout",
     "output_type": "stream",
     "text": [
      "Report batsman_Report.html was generated! NOTEBOOK/COLAB USERS: the web browser MAY not pop up, regardless, the report IS saved in your notebook/colab files.\n"
     ]
    }
   ],
   "source": [
    "# Analyze the dataset\n",
    "my_report = sv.analyze(batsman_data) \n",
    "\n",
    "# Display the Sweetviz report\n",
    "my_report.show_html(\"batsman_Report.html\")  # This will generate an HTML report"
   ]
  },
  {
   "cell_type": "code",
   "execution_count": null,
   "metadata": {},
   "outputs": [],
   "source": []
  }
 ],
 "metadata": {
  "kernelspec": {
   "display_name": "Python 3",
   "language": "python",
   "name": "python3"
  },
  "language_info": {
   "codemirror_mode": {
    "name": "ipython",
    "version": 3
   },
   "file_extension": ".py",
   "mimetype": "text/x-python",
   "name": "python",
   "nbconvert_exporter": "python",
   "pygments_lexer": "ipython3",
   "version": "3.10.11"
  }
 },
 "nbformat": 4,
 "nbformat_minor": 2
}
